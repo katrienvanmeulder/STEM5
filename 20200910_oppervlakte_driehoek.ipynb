{
  "nbformat": 4,
  "nbformat_minor": 0,
  "metadata": {
    "colab": {
      "name": "20200910_oppervlakte_driehoek.ipynb",
      "provenance": [],
      "authorship_tag": "ABX9TyNCaH6qVaAvU5sN+SbOM7kg",
      "include_colab_link": true
    },
    "kernelspec": {
      "name": "python3",
      "display_name": "Python 3"
    }
  },
  "cells": [
    {
      "cell_type": "markdown",
      "metadata": {
        "id": "view-in-github",
        "colab_type": "text"
      },
      "source": [
        "<a href=\"https://colab.research.google.com/github/katrienvanmeulder/STEM5/blob/master/20200910_oppervlakte_driehoek.ipynb\" target=\"_parent\"><img src=\"https://colab.research.google.com/assets/colab-badge.svg\" alt=\"Open In Colab\"/></a>"
      ]
    },
    {
      "cell_type": "markdown",
      "metadata": {
        "id": "d7oW1YHKOSZF",
        "colab_type": "text"
      },
      "source": [
        "## Opgave 1\n",
        "\n",
        "Schrijf een programma dat het oppervlak van een driehoek berekent.\n",
        "\n",
        "Het programma …\n",
        "\n",
        "* vraagt aan de gebruiker een eerste natuurlijk getal dat de basis van de driehoek voorstelt, deze waarde wordt toegekend aan een variabele (bv. b, basis, …).\n",
        "* vraagt aan de gebruiker een tweede natuurlijk getal dat de hoogte van de driehoek voorstelt, deze waarde wordt toegekend aan een variabele (bv. h, hoogte, …).\n",
        "* berekent - op basis van de ingevoerde ‘basis’ en ‘hoogte’ - en gebruikmakend van de formule (zie figuur) het oppervlak van de driehoek.\n",
        "* drukt de berekende waarde (het oppervlak) af op het scherm.\n"
      ]
    },
    {
      "cell_type": "code",
      "metadata": {
        "id": "CJ3v-JJcOOpb",
        "colab_type": "code",
        "colab": {}
      },
      "source": [
        ""
      ],
      "execution_count": null,
      "outputs": []
    }
  ]
}