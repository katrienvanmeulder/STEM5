{
  "nbformat": 4,
  "nbformat_minor": 0,
  "metadata": {
    "colab": {
      "name": "20201126_number_even_numbers.ipynb",
      "provenance": [],
      "collapsed_sections": [],
      "authorship_tag": "ABX9TyOo8PEJxLXhRd2ecGea0rHW",
      "include_colab_link": true
    },
    "kernelspec": {
      "name": "python3",
      "display_name": "Python 3"
    }
  },
  "cells": [
    {
      "cell_type": "markdown",
      "metadata": {
        "id": "view-in-github",
        "colab_type": "text"
      },
      "source": [
        "<a href=\"https://colab.research.google.com/github/katrienvanmeulder/STEM5/blob/master/20201126_number_even_numbers.ipynb\" target=\"_parent\"><img src=\"https://colab.research.google.com/assets/colab-badge.svg\" alt=\"Open In Colab\"/></a>"
      ]
    },
    {
      "cell_type": "markdown",
      "metadata": {
        "id": "63JMs46GNWuV"
      },
      "source": [
        "# Opdracht\n",
        "Schrijf een programma dat volgende stappen doorloopt:\n",
        "\n",
        "- Creëer een lijst bestaande uit minstens 10 natuurlijke getallen (verschillend van 0).\n",
        "- Tel het aantal even getallen in de reeks!\n",
        "- Print het aantal op het scherm."
      ]
    },
    {
      "cell_type": "code",
      "metadata": {
        "id": "FQ2EE1DaLWm8"
      },
      "source": [
        ""
      ],
      "execution_count": null,
      "outputs": []
    }
  ]
}