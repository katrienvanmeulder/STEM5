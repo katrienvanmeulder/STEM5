{
  "nbformat": 4,
  "nbformat_minor": 0,
  "metadata": {
    "colab": {
      "name": "20201126_second_highest.ipynb",
      "provenance": [],
      "authorship_tag": "ABX9TyP/32/2FgBJUvwYJ/+AJ2yJ",
      "include_colab_link": true
    },
    "kernelspec": {
      "name": "python3",
      "display_name": "Python 3"
    }
  },
  "cells": [
    {
      "cell_type": "markdown",
      "metadata": {
        "id": "view-in-github",
        "colab_type": "text"
      },
      "source": [
        "<a href=\"https://colab.research.google.com/github/katrienvanmeulder/STEM5/blob/master/20201126_second_highest.ipynb\" target=\"_parent\"><img src=\"https://colab.research.google.com/assets/colab-badge.svg\" alt=\"Open In Colab\"/></a>"
      ]
    },
    {
      "cell_type": "markdown",
      "metadata": {
        "id": "niZs5OL1K8wY"
      },
      "source": [
        "# Opdracht\n",
        "Schrijf een programma dat volgende stappen doorloopt:\n",
        "\n",
        "- Creëer een lijst bestaande uit minstens 2 natuurlijke getallen (verschillend van 0).\n",
        "- Zoek de op één na hoogste waarde in de reeks.\n",
        "- Je mag er vanuit gaan dat de reeks uit minstens 2 getallen bestaat.\n",
        "- Print de gevonden waarde op het scherm."
      ]
    },
    {
      "cell_type": "code",
      "metadata": {
        "id": "YAJYIyZdKsdN"
      },
      "source": [
        ""
      ],
      "execution_count": null,
      "outputs": []
    }
  ]
}