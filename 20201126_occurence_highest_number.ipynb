{
  "nbformat": 4,
  "nbformat_minor": 0,
  "metadata": {
    "colab": {
      "name": "20201126_occurence_highest_number.ipynb",
      "provenance": [],
      "collapsed_sections": [],
      "authorship_tag": "ABX9TyMsGvycAKUF1W1j4N+s2quh",
      "include_colab_link": true
    },
    "kernelspec": {
      "name": "python3",
      "display_name": "Python 3"
    }
  },
  "cells": [
    {
      "cell_type": "markdown",
      "metadata": {
        "id": "view-in-github",
        "colab_type": "text"
      },
      "source": [
        "<a href=\"https://colab.research.google.com/github/katrienvanmeulder/STEM5/blob/master/20201126_occurence_highest_number.ipynb\" target=\"_parent\"><img src=\"https://colab.research.google.com/assets/colab-badge.svg\" alt=\"Open In Colab\"/></a>"
      ]
    },
    {
      "cell_type": "markdown",
      "metadata": {
        "id": "tvZqbX3yN9DN"
      },
      "source": [
        "# Opdracht\n",
        "Schrijf een programma dat volgende stappen doorloopt:\n",
        "\n",
        "- Creëer een lijst bestaande uit minstens 10 natuurlijke getallen (verschillend van 0).\n",
        "\n",
        "- Zoek hoe vaak de hoogste waarde in de reeks voorkomt.\n",
        "- Print de gevonden waarde op het scherm.\n"
      ]
    },
    {
      "cell_type": "code",
      "metadata": {
        "id": "owtD7d4XN2bH"
      },
      "source": [
        ""
      ],
      "execution_count": null,
      "outputs": []
    }
  ]
}