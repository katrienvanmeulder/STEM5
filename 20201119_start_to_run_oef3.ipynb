{
  "nbformat": 4,
  "nbformat_minor": 0,
  "metadata": {
    "colab": {
      "name": "20201119_start_to_run_oef3.ipynb",
      "provenance": [],
      "authorship_tag": "ABX9TyOwPkSpHtrgNV1TAPrpOYcY",
      "include_colab_link": true
    },
    "kernelspec": {
      "name": "python3",
      "display_name": "Python 3"
    }
  },
  "cells": [
    {
      "cell_type": "markdown",
      "metadata": {
        "id": "view-in-github",
        "colab_type": "text"
      },
      "source": [
        "<a href=\"https://colab.research.google.com/github/katrienvanmeulder/STEM5/blob/master/20201119_start_to_run_oef3.ipynb\" target=\"_parent\"><img src=\"https://colab.research.google.com/assets/colab-badge.svg\" alt=\"Open In Colab\"/></a>"
      ]
    },
    {
      "cell_type": "markdown",
      "metadata": {
        "id": "DixjMWj1xrVb"
      },
      "source": [
        "# Opdracht\n",
        "\n",
        "Schrijf een programma dat berekent hoeveel dagen D je moet trainen voor de afstand (Y) van een loopwedstrijd.\n",
        "\n",
        "Ervan uitgaande dat je op je 1-ste trainingsdag X kilometer loopt, en elke dag 10% meer loopt dan de dag voordien.\n",
        "\n",
        "Als Y = 10 km en X = 6 km op dag 1.\n",
        "\n",
        "- dag 2 –> 6.6 km\n",
        "- dag 3 –> 7.26 km\n",
        "- dag 4 –> 7.986 km\n",
        "- dag 5 –> 8.7846 km\n",
        "- dag 6 –> 9.66… km\n",
        "- dag 7 –> 10.62… km <– doel is bereikt (D = 7)\n"
      ]
    },
    {
      "cell_type": "code",
      "metadata": {
        "id": "PNMJcYe6xnrd"
      },
      "source": [
        ""
      ],
      "execution_count": null,
      "outputs": []
    }
  ]
}