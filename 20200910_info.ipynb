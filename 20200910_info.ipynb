{
  "nbformat": 4,
  "nbformat_minor": 0,
  "metadata": {
    "colab": {
      "name": "20200910_info.ipynb",
      "provenance": [],
      "collapsed_sections": []
    },
    "kernelspec": {
      "name": "python3",
      "display_name": "Python 3"
    }
  },
  "cells": [
    {
      "cell_type": "markdown",
      "metadata": {
        "id": "DTjsDpseITY7",
        "colab_type": "text"
      },
      "source": [
        "## Python cursus \n",
        "\n",
        "*   https://www.uhasselt.be/tutorials-python\n",
        "*   \n",
        "\n"
      ]
    },
    {
      "cell_type": "code",
      "metadata": {
        "id": "YqPxT2RMIN4e",
        "colab_type": "code",
        "colab": {}
      },
      "source": [
        "# https://dodona.ugent.be/en/courses/290/series/2563/activities/156328980/"
      ],
      "execution_count": 1,
      "outputs": []
    },
    {
      "cell_type": "code",
      "metadata": {
        "id": "JMGxtcXuVKvg",
        "colab_type": "code",
        "colab": {}
      },
      "source": [
        ""
      ],
      "execution_count": null,
      "outputs": []
    }
  ]
}