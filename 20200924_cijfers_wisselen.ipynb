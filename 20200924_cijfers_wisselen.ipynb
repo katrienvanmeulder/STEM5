{
  "nbformat": 4,
  "nbformat_minor": 0,
  "metadata": {
    "colab": {
      "name": "20200924_cijfers_wisselen.ipynb",
      "provenance": [],
      "authorship_tag": "ABX9TyOfstShQY+7FjunIKD2GxOO",
      "include_colab_link": true
    },
    "kernelspec": {
      "name": "python3",
      "display_name": "Python 3"
    }
  },
  "cells": [
    {
      "cell_type": "markdown",
      "metadata": {
        "id": "view-in-github",
        "colab_type": "text"
      },
      "source": [
        "<a href=\"https://colab.research.google.com/github/katrienvanmeulder/STEM5/blob/master/20200924_cijfers_wisselen.ipynb\" target=\"_parent\"><img src=\"https://colab.research.google.com/assets/colab-badge.svg\" alt=\"Open In Colab\"/></a>"
      ]
    },
    {
      "cell_type": "markdown",
      "metadata": {
        "id": "20yNtD3Vti1m",
        "colab_type": "text"
      },
      "source": [
        "# Opagve\n",
        "\n",
        "- Wissel de cijfers van een getal met twee cijfers om!\n",
        "\n",
        "- Opgelet. Je moet het getal in één keer ingeven, je mag dus geen twee input statements gebruiken!\n",
        "\n",
        "- Bijvoorbeeld: 79 inlezen en 97 printen op het scherm\n"
      ]
    },
    {
      "cell_type": "code",
      "metadata": {
        "id": "0Q_WKG43tehf",
        "colab_type": "code",
        "colab": {}
      },
      "source": [
        ""
      ],
      "execution_count": null,
      "outputs": []
    }
  ]
}