{
  "nbformat": 4,
  "nbformat_minor": 0,
  "metadata": {
    "colab": {
      "name": "20210506_oef3_palindrome_4_digits",
      "provenance": [],
      "collapsed_sections": [],
      "authorship_tag": "ABX9TyMhky7qiemvzhoB+ug423IN",
      "include_colab_link": true
    },
    "kernelspec": {
      "name": "python3",
      "display_name": "Python 3"
    }
  },
  "cells": [
    {
      "cell_type": "markdown",
      "metadata": {
        "id": "view-in-github",
        "colab_type": "text"
      },
      "source": [
        "<a href=\"https://colab.research.google.com/github/katrienvanmeulder/STEM5/blob/master/20210506_oef3_palindrome_4_digits.ipynb\" target=\"_parent\"><img src=\"https://colab.research.google.com/assets/colab-badge.svg\" alt=\"Open In Colab\"/></a>"
      ]
    },
    {
      "cell_type": "markdown",
      "metadata": {
        "id": "qzVCwkctV1Wc"
      },
      "source": [
        "#Opdracht\n",
        "We noemen een integer een cijferpalindroom wanneer het zowel van voor naar achter als van achter naar voor kan gelezen worden (voorbeeld: 1991).\n",
        "\n",
        "Gegeven een natuurlijk getal van 4 cijfers.\n",
        "\n",
        "- Schrijf een programma dat laat weten of het ingevoerde getal al dan niet een cijferpalindroom is.\n",
        "\n",
        "- De mogelijke antwoorden zijn “**EEN CIJFERPALINDROOM**” en “**GEEN CIJFERPALINDROOM**”."
      ]
    },
    {
      "cell_type": "markdown",
      "metadata": {
        "id": "MV5K0uuwW6cA"
      },
      "source": [
        "#Een mogelijke aanpak\n",
        "Het programma …\n",
        "\n",
        "- vraagt de gebruiker naar een natuurlijk getal van 4 cijfers en kent de ingevoerde waarde toe aan een variabele. (bv. getal, g, …)\n",
        "- evalueert of het getal een cijferpalindroom is.\n",
        "drukt de stringwaarde “**EEN CIJFERPALINDROOM**” of de stringwaarde “**GEEN CIJFERPALINDROOM**” af."
      ]
    },
    {
      "cell_type": "code",
      "metadata": {
        "id": "x5DDa1QVVmwn"
      },
      "source": [
        ""
      ],
      "execution_count": null,
      "outputs": []
    }
  ]
}