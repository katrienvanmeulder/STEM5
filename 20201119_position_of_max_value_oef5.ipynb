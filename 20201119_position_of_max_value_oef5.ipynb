{
  "nbformat": 4,
  "nbformat_minor": 0,
  "metadata": {
    "colab": {
      "name": "20201119_position_of_max_value_oef5.ipynb",
      "provenance": [],
      "collapsed_sections": [],
      "authorship_tag": "ABX9TyMuIxSiuC8JWSXlDeJ0mzX/",
      "include_colab_link": true
    },
    "kernelspec": {
      "name": "python3",
      "display_name": "Python 3"
    }
  },
  "cells": [
    {
      "cell_type": "markdown",
      "metadata": {
        "id": "view-in-github",
        "colab_type": "text"
      },
      "source": [
        "<a href=\"https://colab.research.google.com/github/katrienvanmeulder/STEM5/blob/master/20201119_position_of_max_value_oef5.ipynb\" target=\"_parent\"><img src=\"https://colab.research.google.com/assets/colab-badge.svg\" alt=\"Open In Colab\"/></a>"
      ]
    },
    {
      "cell_type": "markdown",
      "metadata": {
        "id": "TAyCcGdSy5NE"
      },
      "source": [
        "# Opdracht\n",
        "\n",
        "\n",
        "Schrijf een programma dat volgende stappen doorloopt:\n",
        "\n",
        "- Maak een lijst bestaande uit 10 getallen.\n",
        "\n",
        "- Vind de positie van de grootste waarde (maximum) van de getallen in de lijst!\n",
        "- Indien de maximumwaarde meermaals voorkomt, geef dan de positie van de eerste keer dat de maximumwaarde voorkomt.\n",
        "  \n",
        "- Print de gevonden positie op het scherm.\n"
      ]
    },
    {
      "cell_type": "code",
      "metadata": {
        "id": "q8DpLz0ox9IS"
      },
      "source": [
        ""
      ],
      "execution_count": null,
      "outputs": []
    }
  ]
}