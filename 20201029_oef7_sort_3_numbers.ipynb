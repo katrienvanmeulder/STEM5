{
  "nbformat": 4,
  "nbformat_minor": 0,
  "metadata": {
    "colab": {
      "name": "20201029_oef7_sort_3_numbers.ipynb",
      "provenance": [],
      "collapsed_sections": [],
      "authorship_tag": "ABX9TyP3HsO+BcZ2hsL31iU6wwIO",
      "include_colab_link": true
    },
    "kernelspec": {
      "name": "python3",
      "display_name": "Python 3"
    }
  },
  "cells": [
    {
      "cell_type": "markdown",
      "metadata": {
        "id": "view-in-github",
        "colab_type": "text"
      },
      "source": [
        "<a href=\"https://colab.research.google.com/github/katrienvanmeulder/STEM5/blob/master/20201029_oef7_sort_3_numbers.ipynb\" target=\"_parent\"><img src=\"https://colab.research.google.com/assets/colab-badge.svg\" alt=\"Open In Colab\"/></a>"
      ]
    },
    {
      "cell_type": "markdown",
      "metadata": {
        "id": "SaLHEio_chgK"
      },
      "source": [
        "# Opdracht\n",
        "\n",
        "- Gegeven drie verschillende gehele getallen.\n",
        "\n",
        "- Schrijf een programma dat deze 3 getallen in stijgende volgorde op het scherm afdrukt."
      ]
    },
    {
      "cell_type": "markdown",
      "metadata": {
        "id": "G-v5Mk2FchTt"
      },
      "source": [
        "# Een mogelijke aanpak\n",
        "Het programma …\n",
        "\n",
        "- vraagt de gebruiker naar een eerste geheel getal en kent de ingevoerde waarde toe aan een variabele. (bv. getal1, x, …)\n",
        "- vraagt de gebruiker naar een tweede geheel getal en kent de ingevoerde waarde toe aan een variabele. (bv. getal2, y, …)\n",
        "- vraagt de gebruiker naar een derde geheel getal en kent de ingevoerde waarde toe aan een variabele. (bv. getal3, z, …)\n",
        "- moet achterhalen hoe de getallen zich tov elkaar verhouden om ze vervolgens oplopend te kunnen afdrukken.\n",
        "- drukt het kleinste getal van de drie getallen af.\n",
        "- drukt het middelste getal van de drie getallen af.\n",
        "- drukt het grootste getal van de drie getallen af."
      ]
    },
    {
      "cell_type": "code",
      "metadata": {
        "id": "9WJBriNfcZbQ"
      },
      "source": [
        ""
      ],
      "execution_count": null,
      "outputs": []
    }
  ]
}