{
  "nbformat": 4,
  "nbformat_minor": 0,
  "metadata": {
    "colab": {
      "name": "20200917_appels_verdelen.ipynb",
      "provenance": [],
      "authorship_tag": "ABX9TyN8Avg8LXKBdOGqyggKUQ3b",
      "include_colab_link": true
    },
    "kernelspec": {
      "name": "python3",
      "display_name": "Python 3"
    }
  },
  "cells": [
    {
      "cell_type": "markdown",
      "metadata": {
        "id": "view-in-github",
        "colab_type": "text"
      },
      "source": [
        "<a href=\"https://colab.research.google.com/github/katrienvanmeulder/STEM5/blob/master/20200917_appels_verdelen.ipynb\" target=\"_parent\"><img src=\"https://colab.research.google.com/assets/colab-badge.svg\" alt=\"Open In Colab\"/></a>"
      ]
    },
    {
      "cell_type": "markdown",
      "metadata": {
        "id": "_-mnGT6zQcJZ",
        "colab_type": "text"
      },
      "source": [
        "## Opgave\n",
        "\n",
        "Schrijf een programma dat een hoeveelheid appels onder een aantal leerlingen verdeelt.\n",
        "\n",
        "* Elke leerling krijgt evenveel appels.\n",
        "\n",
        "* De overblijvende appels blijven in de appelmand.\n"
      ]
    },
    {
      "cell_type": "code",
      "metadata": {
        "id": "CAeS6aDJQYr2",
        "colab_type": "code",
        "colab": {}
      },
      "source": [
        ""
      ],
      "execution_count": null,
      "outputs": []
    }
  ]
}