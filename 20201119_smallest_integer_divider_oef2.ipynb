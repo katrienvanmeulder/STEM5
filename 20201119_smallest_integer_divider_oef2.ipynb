{
  "nbformat": 4,
  "nbformat_minor": 0,
  "metadata": {
    "colab": {
      "name": "20201119_smallest_integer_divider_oef2.ipynb",
      "provenance": [],
      "authorship_tag": "ABX9TyMD47JdtrVd8uJbnNc/EezF",
      "include_colab_link": true
    },
    "kernelspec": {
      "name": "python3",
      "display_name": "Python 3"
    }
  },
  "cells": [
    {
      "cell_type": "markdown",
      "metadata": {
        "id": "view-in-github",
        "colab_type": "text"
      },
      "source": [
        "<a href=\"https://colab.research.google.com/github/katrienvanmeulder/STEM5/blob/master/20201119_smallest_integer_divider_oef2.ipynb\" target=\"_parent\"><img src=\"https://colab.research.google.com/assets/colab-badge.svg\" alt=\"Open In Colab\"/></a>"
      ]
    },
    {
      "cell_type": "markdown",
      "metadata": {
        "id": "P6kWWX6AvYA4"
      },
      "source": [
        "# Opdracht\n",
        "Schrijf een programma dat de kleinste gehele deler (groter dan 1) vindt van een ingevoerd natuurlijk getal N. (zie voorbeelden)\n"
      ]
    },
    {
      "cell_type": "markdown",
      "metadata": {
        "id": "dxBDenIevX3m"
      },
      "source": [
        "# Een mogelijke aanpak\n",
        "1 & N zijn steeds delers van het natuurlijke getal N.\n",
        "\n",
        "Als er geen andere delers zijn (priemgetallen), dan is N de kleinste gehele deler van N (die verschilt van 1).\n",
        "\n",
        "- We vertrekken van het getal 2 als mogelijke kleinste gehele deler (initialiseren).\n",
        "  - Als 2 een deler is, dan mogen we stoppen, want dan hebben we de kleinste van 1 verschillende gehele deler van N gevonden.\n",
        "    - Hoe controleer je of een getal x een deler is van het getal N?\n",
        "  - Anders moeten we het gehele getal 3 controleren, en dan het gehele getal 4, … en zo verder tot we een deler gevonden hebben.\n",
        "    - Als geen enkel getal een deler is van N, dan zal uiteindelijk N als mogelijke deler aan de beurt komen, en dat zal dan ons resultaat zijn.\n",
        "\n",
        "Het programma …\n",
        "\n",
        "- vraagt de gebruiker naar een natuurlijk getal en kent deze waarde toe aan een variabele N.\n",
        "- gebruikt een while-lus (die geïnitialiseerd wordt) om te kijken of er een deler gevonden wordt (booleaanse expressie nodig), zolang dat niet het geval is, wordt er verder herhaald.\n",
        "- drukt de uiteindelijk gevonden waarde af.\n"
      ]
    },
    {
      "cell_type": "code",
      "metadata": {
        "id": "JuqERihTvK-k"
      },
      "source": [
        ""
      ],
      "execution_count": null,
      "outputs": []
    }
  ]
}